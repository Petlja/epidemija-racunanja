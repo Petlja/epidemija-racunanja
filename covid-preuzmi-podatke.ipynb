{
 "cells": [
  {
   "cell_type": "markdown",
   "metadata": {},
   "source": [
    "# Преузимање података из извора отворених података"
   ]
  },
  {
   "cell_type": "code",
   "execution_count": 2,
   "metadata": {},
   "outputs": [],
   "source": [
    "import requests "
   ]
  },
  {
   "cell_type": "markdown",
   "metadata": {},
   "source": [
    "Преузимање података са*European Centre for Disease Prevention and Control* (*ECDPC*), сет података  *historical data (to 14 December 2020) on the daily number of new reported COVID-19 cases and deaths worldwide*. Раније преузети подаци се налазе у `data/covidworldwide.csv`.  Иако су исти подаци и даље обухваћени, они су у међувремену ревидирани беш у детаљима који су примери техничких пропуста у процесу прикупљања података. Зато су задржани и стари подаци, али се могу преузети и новији извршавањем следеће ћелије. Након децембра 2020 су и СЗО и *ECDPC* престали да објављују податке на дневном нивоу баш због проблема о којима причамо и које смо илустровали. Подаци су надаље доступни на недељном нивоу."
   ]
  },
  {
   "cell_type": "code",
   "execution_count": 2,
   "metadata": {},
   "outputs": [
    {
     "data": {
      "text/plain": [
       "3587137"
      ]
     },
     "execution_count": 2,
     "metadata": {},
     "output_type": "execute_result"
    }
   ],
   "source": [
    "r = requests.get('https://www.ecdc.europa.eu/sites/default/files/documents/COVID-19-geographic-disbtribution-worldwide-2020-12-14.xlsx')\n",
    "open('data/COVID-19-geographic-disbtribution-worldwide-2020-12-14.xlsx', 'wb').write(r.content)"
   ]
  },
  {
   "cell_type": "code",
   "execution_count": 3,
   "metadata": {},
   "outputs": [
    {
     "data": {
      "text/plain": [
       "622188"
      ]
     },
     "execution_count": 3,
     "metadata": {},
     "output_type": "execute_result"
    }
   ],
   "source": [
    "# Подаци са covid19.rs. Извор: Институт за јавно здравље Србије ”Милан Јовановић Батут”, СЗО.\n",
    "r = requests.get('https://covid19.data.gov.rs/api/datasets/statistic/official')\n",
    "open('data/serbia-offitial.json', 'wb').write(r.content)"
   ]
  },
  {
   "cell_type": "code",
   "execution_count": null,
   "metadata": {},
   "outputs": [],
   "source": [
    "r = requests.get('https://opendata.ecdc.europa.eu/covid19/casedistribution/csv')\n",
    "open('data/covid-worldwide-weekly.csv', 'wb').write(r.content)"
   ]
  }
 ],
 "metadata": {
  "kernelspec": {
   "display_name": "Python 3",
   "language": "python",
   "name": "python3"
  },
  "language_info": {
   "codemirror_mode": {
    "name": "ipython",
    "version": 3
   },
   "file_extension": ".py",
   "mimetype": "text/x-python",
   "name": "python",
   "nbconvert_exporter": "python",
   "pygments_lexer": "ipython3",
   "version": "3.7.9"
  }
 },
 "nbformat": 4,
 "nbformat_minor": 4
}
