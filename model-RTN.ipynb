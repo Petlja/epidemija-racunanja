{
 "cells": [
  {
   "cell_type": "markdown",
   "metadata": {},
   "source": [
    "# Модел заснован на репродукционом броју, генерацијском интервалу и утицају колективног имунитета"
   ]
  },
  {
   "cell_type": "code",
   "execution_count": 1,
   "metadata": {},
   "outputs": [],
   "source": [
    "import numpy as np\n",
    "import matplotlib.pyplot as plt"
   ]
  },
  {
   "cell_type": "markdown",
   "metadata": {},
   "source": [
    "Постављамо три основна параметра за модел"
   ]
  },
  {
   "cell_type": "code",
   "execution_count": 2,
   "metadata": {},
   "outputs": [],
   "source": [
    "R0 = 3     # основни репродукциони број је 3 \n",
    "T = 5      # просечан генерацијски интервал је 5 дана\n",
    "N = 1000   # величина популације је 1000 особа"
   ]
  },
  {
   "cell_type": "markdown",
   "metadata": {},
   "source": [
    "и параметре који одређују опсег у коме ћемо рачунати модел"
   ]
  },
  {
   "cell_type": "code",
   "execution_count": 3,
   "metadata": {},
   "outputs": [],
   "source": [
    "c = 1      # крећемо од једног заражено, практично нултог пацијента\n",
    "max_t = 70 # посматрамо првих 70 дана ширења епидемије"
   ]
  },
  {
   "cell_type": "markdown",
   "metadata": {},
   "source": [
    "Параметар `delta_t` одређује густину тачака на временској оси за које ћемо рачунати вредности. "
   ]
  },
  {
   "cell_type": "code",
   "execution_count": 4,
   "metadata": {},
   "outputs": [],
   "source": [
    "delta_t = 0.1\n"
   ]
  },
  {
   "cell_type": "markdown",
   "metadata": {},
   "source": [
    "Користимо идеју табеларног представљања функција где је једна колона независна променљива (у овом случају $t$), а остале колоне су вредности појединих функција (у овом случају $f(t)$ и $g(t)$). При томе вредности независне променљиве иду редом са одређеним кораком. Свака колона је једна серија вредности индексирана редним броје реда."
   ]
  },
  {
   "cell_type": "markdown",
   "metadata": {},
   "source": [
    "Формирајмо прво серију вредности за променљиву $t$, са кораком `delta_t`"
   ]
  },
  {
   "cell_type": "code",
   "execution_count": 5,
   "metadata": {},
   "outputs": [],
   "source": [
    "t = np.arange(0, max_t + delta_t/2, delta_t) "
   ]
  },
  {
   "cell_type": "markdown",
   "metadata": {},
   "source": [
    "Серије вредности за $f(t)$ и за $g(t)$ на почетку попуњавамо нулама, а после ћемо редом да рачунамо вредности"
   ]
  },
  {
   "cell_type": "code",
   "execution_count": 6,
   "metadata": {},
   "outputs": [],
   "source": [
    "f = np.zeros_like(t)\n",
    "g = np.zeros_like(t)"
   ]
  },
  {
   "cell_type": "markdown",
   "metadata": {},
   "source": [
    "Параметар `T` преводимо у одговарајући цео број корака дужине `delta_t`, уз заокруживање"
   ]
  },
  {
   "cell_type": "code",
   "execution_count": 7,
   "metadata": {},
   "outputs": [],
   "source": [
    "iT = int(round(T/delta_t))"
   ]
  },
  {
   "cell_type": "markdown",
   "metadata": {},
   "source": [
    "Дефинишемо проширену функцију која за вредности мање од нуле користи експоненцијалну функцију са одговарајућим параметрим"
   ]
  },
  {
   "cell_type": "code",
   "execution_count": 8,
   "metadata": {},
   "outputs": [],
   "source": [
    " def f_prosireno(i):\n",
    "    if i >= 0:\n",
    "        return f[i]\n",
    "    else:\n",
    "        r = R0 ** (1 / (iT * delta_t)) \n",
    "        return c * r ** (i * delta_t)"
   ]
  },
  {
   "cell_type": "markdown",
   "metadata": {},
   "source": [
    "У следећој петљи нумерички конструишемо решење једначине\n",
    "\n",
    "$$f(t) = R_0(1-{g(t)\\over N})f(t-T)$$\n",
    "\n",
    "уз услов да је су функције $f(t)$ и $g(t)$ таквом односу да да ако $f(t)$ представља број новозаражених у јединици времена онда $g(t)$ представља укупан број заражених, као и уз коришћење апроксимације експоненцијалном функциом за вредности мање од нуле."
   ]
  },
  {
   "cell_type": "code",
   "execution_count": 9,
   "metadata": {},
   "outputs": [],
   "source": [
    "for i in range(len(t)):\n",
    "    if i==0:\n",
    "        g[i] = 0 \n",
    "    else:\n",
    "        g[i] = g[i-1] + f[i-1] * delta_t\n",
    "        \n",
    "    f[i] = R0 * (1 - g[i] / N) * f_prosireno(i - iT)"
   ]
  },
  {
   "cell_type": "markdown",
   "metadata": {},
   "source": [
    "На крају ћемо да нацртано графике функција"
   ]
  },
  {
   "cell_type": "code",
   "execution_count": 10,
   "metadata": {},
   "outputs": [
    {
     "data": {
      "image/png": "[encoded data removed]",
      "text/plain": [
       "<Figure size 720x432 with 1 Axes>"
      ]
     },
     "metadata": {
      "needs_background": "light"
     },
     "output_type": "display_data"
    }
   ],
   "source": [
    "plt.figure(figsize=(10,6))\n",
    "plt.plot(t,f, 'red', alpha=0.5, lw=3, label='$f(t)$')\n",
    "plt.plot(t,g, 'blue', alpha=0.5, lw=3, label='$g(t)$')\n",
    "plt.legend()\n",
    "plt.grid(True)\n",
    "plt.xlabel('Време (дани)')\n",
    "plt.ylabel('Број особа')\n",
    "plt.ylim(0,1050)\n",
    "plt.yticks(np.arange(0,1050,100))\n",
    "plt.xlim(0,73)\n",
    "plt.xticks(np.arange(0,73,5))\n",
    "plt.show()"
   ]
  }
 ],
 "metadata": {
  "kernelspec": {
   "display_name": "Python 3",
   "language": "python",
   "name": "python3"
  },
  "language_info": {
   "codemirror_mode": {
    "name": "ipython",
    "version": 3
   },
   "file_extension": ".py",
   "mimetype": "text/x-python",
   "name": "python",
   "nbconvert_exporter": "python",
   "pygments_lexer": "ipython3",
   "version": "3.7.9"
  }
 },
 "nbformat": 4,
 "nbformat_minor": 4
}
