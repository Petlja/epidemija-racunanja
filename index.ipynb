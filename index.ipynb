{
 "cells": [
  {
   "cell_type": "markdown",
   "metadata": {},
   "source": [
    "# Радне свеске за курс о епидемији"
   ]
  },
  {
   "cell_type": "markdown",
   "metadata": {},
   "source": [
    "Посебна лекција у оквиру курса је посвећена томе како су анализирани подаци и прављени графикони за курс о епидемији. То је у следећим радним свескама:\n",
    "\n",
    "* [Анализа података о епидемији коронавируса](covid-analize.ipynb)\n",
    "* [Логистичка функција](logisticka-funkcija.ipynb)\n",
    "* Додатак: [Епидемиолошки модел *SIR*](model-SIR.ipynb)\n",
    "\n",
    "Уколико тренутно свеске гледате у режимо прегледанја (без могућности измена), а не желите да инсталирате *Jupyter* на свом рачунару, можете исту ову страницу отворити у оквиру бесплатног *Binder* сервиса:\n",
    "\n",
    "https://mybinder.org/v2/gh/Petlja/epidemija-racunanja/master?filepath=index.ipynb \n",
    "\n",
    "Ако користите *Binder* водите рачуна да вам промене неће бити трајно сачуване.\n"
   ]
  }
 ],
 "metadata": {
  "kernelspec": {
   "display_name": "Python 3",
   "language": "python",
   "name": "python3"
  },
  "language_info": {
   "codemirror_mode": {
    "name": "ipython",
    "version": 3
   },
   "file_extension": ".py",
   "mimetype": "text/x-python",
   "name": "python",
   "nbconvert_exporter": "python",
   "pygments_lexer": "ipython3",
   "version": "3.7.9"
  }
 },
 "nbformat": 4,
 "nbformat_minor": 4
}
