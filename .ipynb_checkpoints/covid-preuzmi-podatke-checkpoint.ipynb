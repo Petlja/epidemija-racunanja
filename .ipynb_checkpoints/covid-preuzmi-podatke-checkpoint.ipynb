{
 "cells": [
  {
   "cell_type": "markdown",
   "metadata": {},
   "source": [
    "# Преузимање података из извора отворених података"
   ]
  },
  {
   "cell_type": "code",
   "execution_count": 2,
   "metadata": {},
   "outputs": [],
   "source": [
    "import requests \n"
   ]
  },
  {
   "cell_type": "markdown",
   "metadata": {},
   "source": [
    "Preuzimanje podataka sa *European Centre for Disease Prevention and Control* (ECDPS), set podataka *historical data (to 14 December 2020) on the daily number of new reported COVID-19 cases and deaths worldwide*. Ranije preuzeti podaci se nalaze u `data/covidworldwide.csv`. Iako su isti podaci i dalje obuhvaćeni, oni su u međuvremenu revidirani beš u detaljima koji su primeri tehničkih propusta u procesu prikupljanja podataka. Zato su zadržani i stari podaci, ali se mogu preuzeti i noviji izvršavanjem sledeće ćelije. Nakon decembra 2020 su i SZO i ECDPC prestali da objavljuju podatke na dnevnom nivou baš zbog problema o kojima pričamo i koje smo ilustrovali. Podaci su nadalje dostupni na nedeljnom nivou."
   ]
  },
  {
   "cell_type": "code",
   "execution_count": 2,
   "metadata": {},
   "outputs": [
    {
     "data": {
      "text/plain": [
       "3587137"
      ]
     },
     "execution_count": 2,
     "metadata": {},
     "output_type": "execute_result"
    }
   ],
   "source": [
    "r = requests.get('https://www.ecdc.europa.eu/sites/default/files/documents/COVID-19-geographic-disbtribution-worldwide-2020-12-14.xlsx')\n",
    "open('data/COVID-19-geographic-disbtribution-worldwide-2020-12-14.xlsx', 'wb').write(r.content)\n"
   ]
  },
  {
   "cell_type": "code",
   "execution_count": 3,
   "metadata": {},
   "outputs": [
    {
     "data": {
      "text/plain": [
       "622188"
      ]
     },
     "execution_count": 3,
     "metadata": {},
     "output_type": "execute_result"
    }
   ],
   "source": [
    "# Подаци са covid19.rs. Извор: Институт за јавно здравље Србије ”Милан Јовановић Батут”, СЗО.\n",
    "r = requests.get('https://covid19.data.gov.rs/api/datasets/statistic/official')\n",
    "open('data/serbia-offitial.json', 'wb').write(r.content)\n",
    "\n"
   ]
  },
  {
   "cell_type": "code",
   "execution_count": null,
   "metadata": {},
   "outputs": [],
   "source": [
    "r = requests.get('https://opendata.ecdc.europa.eu/covid19/casedistribution/csv')\n",
    "open('data/covid-worldwide-weekly.csv', 'wb').write(r.content)"
   ]
  }
 ],
 "metadata": {
  "kernelspec": {
   "display_name": "Python 3.7.7 64-bit ('env': venv)",
   "language": "python",
   "name": "python37764bitenvvenv11a37c334da34c2487bdaaf982ef86f9"
  },
  "language_info": {
   "codemirror_mode": {
    "name": "ipython",
    "version": 3
   },
   "file_extension": ".py",
   "mimetype": "text/x-python",
   "name": "python",
   "nbconvert_exporter": "python",
   "pygments_lexer": "ipython3",
   "version": "3.7.9"
  }
 },
 "nbformat": 4,
 "nbformat_minor": 4
}
